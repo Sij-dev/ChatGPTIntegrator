{
  "nbformat": 4,
  "nbformat_minor": 0,
  "metadata": {
    "colab": {
      "provenance": [],
      "include_colab_link": true
    },
    "kernelspec": {
      "name": "python2",
      "display_name": "Python 2"
    }
  },
  "cells": [
    {
      "cell_type": "markdown",
      "metadata": {
        "id": "view-in-github",
        "colab_type": "text"
      },
      "source": [
        "<a href=\"https://colab.research.google.com/github/Sij-dev/ChatGPTIntegrator/blob/main/OCRusingTesseract.ipynb\" target=\"_parent\"><img src=\"https://colab.research.google.com/assets/colab-badge.svg\" alt=\"Open In Colab\"/></a>"
      ]
    },
    {
      "metadata": {
        "id": "uWwpI-24_Nob",
        "colab": {
          "base_uri": "https://localhost:8080/"
        },
        "outputId": "a3c318ca-8942-4d29-c714-9fd3984d28b3"
      },
      "cell_type": "code",
      "source": [
        "!sudo apt install tesseract-ocr"
      ],
      "execution_count": 1,
      "outputs": [
        {
          "output_type": "stream",
          "name": "stdout",
          "text": [
            "Reading package lists... Done\n",
            "Building dependency tree       \n",
            "Reading state information... Done\n",
            "tesseract-ocr is already the newest version (4.1.1-2build2).\n",
            "0 upgraded, 0 newly installed, 0 to remove and 23 not upgraded.\n"
          ]
        }
      ]
    },
    {
      "metadata": {
        "id": "ujL16dZ2_O-3",
        "colab": {
          "base_uri": "https://localhost:8080/",
          "height": 768
        },
        "outputId": "46651a9e-f048-4f2f-d663-e2eef8260388"
      },
      "cell_type": "code",
      "source": [
        "!pip install ocrmypdf\n",
        "!pip install pytesseract\n",
        "!pip install opencv-python\n",
        "!pip install pdf2image\n",
        "!pip install PyMuPDF\n",
        "!pip install --ignore-installed Pillow==9.0.0\n",
        "!pip install ghostscript\n",
        "!pip install camelot-py[cv]\n",
        "!pip install excalibur-py\n",
        "!apt install ghostscript python3-tk\n",
        "from ctypes.util import find_library\n",
        "print(find_library(\"gs\")) #will display libgs.so.9 if installed; will print None if not\n",
        "!excalibur initdb"
      ],
      "execution_count": 2,
      "outputs": [
        {
          "output_type": "stream",
          "name": "stdout",
          "text": [
            "Looking in indexes: https://pypi.org/simple, https://us-python.pkg.dev/colab-wheels/public/simple/\n",
            "Requirement already satisfied: ocrmypdf in /usr/local/lib/python3.9/dist-packages (14.0.4)\n",
            "Requirement already satisfied: pikepdf>=5.0.1 in /usr/local/lib/python3.9/dist-packages (from ocrmypdf) (7.1.1)\n",
            "Requirement already satisfied: coloredlogs>=14.0 in /usr/local/lib/python3.9/dist-packages (from ocrmypdf) (15.0.1)\n",
            "Requirement already satisfied: pdfminer.six>=20201018 in /usr/local/lib/python3.9/dist-packages (from ocrmypdf) (20221105)\n",
            "Requirement already satisfied: tqdm>=4 in /usr/local/lib/python3.9/dist-packages (from ocrmypdf) (4.65.0)\n",
            "Requirement already satisfied: pluggy>=0.13.0 in /usr/local/lib/python3.9/dist-packages (from ocrmypdf) (1.0.0)\n",
            "Requirement already satisfied: packaging>=20 in /usr/local/lib/python3.9/dist-packages (from ocrmypdf) (23.0)\n",
            "Requirement already satisfied: img2pdf>=0.3.0 in /usr/local/lib/python3.9/dist-packages (from ocrmypdf) (0.4.4)\n",
            "Requirement already satisfied: Pillow>=8.2.0 in /usr/local/lib/python3.9/dist-packages (from ocrmypdf) (9.4.0)\n",
            "Requirement already satisfied: deprecation>=2.1.0 in /usr/local/lib/python3.9/dist-packages (from ocrmypdf) (2.1.0)\n",
            "Requirement already satisfied: typing-extensions>=4 in /usr/local/lib/python3.9/dist-packages (from ocrmypdf) (4.5.0)\n",
            "Requirement already satisfied: reportlab>=3.5.66 in /usr/local/lib/python3.9/dist-packages (from ocrmypdf) (3.6.12)\n",
            "Requirement already satisfied: humanfriendly>=9.1 in /usr/local/lib/python3.9/dist-packages (from coloredlogs>=14.0->ocrmypdf) (10.0)\n",
            "Requirement already satisfied: cryptography>=36.0.0 in /usr/local/lib/python3.9/dist-packages (from pdfminer.six>=20201018->ocrmypdf) (39.0.2)\n",
            "Requirement already satisfied: charset-normalizer>=2.0.0 in /usr/local/lib/python3.9/dist-packages (from pdfminer.six>=20201018->ocrmypdf) (2.0.12)\n",
            "Requirement already satisfied: lxml>=4.8 in /usr/local/lib/python3.9/dist-packages (from pikepdf>=5.0.1->ocrmypdf) (4.9.2)\n",
            "Requirement already satisfied: cffi>=1.12 in /usr/local/lib/python3.9/dist-packages (from cryptography>=36.0.0->pdfminer.six>=20201018->ocrmypdf) (1.15.1)\n",
            "Requirement already satisfied: pycparser in /usr/local/lib/python3.9/dist-packages (from cffi>=1.12->cryptography>=36.0.0->pdfminer.six>=20201018->ocrmypdf) (2.21)\n",
            "Looking in indexes: https://pypi.org/simple, https://us-python.pkg.dev/colab-wheels/public/simple/\n",
            "Requirement already satisfied: pytesseract in /usr/local/lib/python3.9/dist-packages (0.3.10)\n",
            "Requirement already satisfied: packaging>=21.3 in /usr/local/lib/python3.9/dist-packages (from pytesseract) (23.0)\n",
            "Requirement already satisfied: Pillow>=8.0.0 in /usr/local/lib/python3.9/dist-packages (from pytesseract) (9.4.0)\n",
            "Looking in indexes: https://pypi.org/simple, https://us-python.pkg.dev/colab-wheels/public/simple/\n",
            "Requirement already satisfied: opencv-python in /usr/local/lib/python3.9/dist-packages (4.7.0.72)\n",
            "Requirement already satisfied: numpy>=1.19.3 in /usr/local/lib/python3.9/dist-packages (from opencv-python) (1.22.4)\n",
            "Looking in indexes: https://pypi.org/simple, https://us-python.pkg.dev/colab-wheels/public/simple/\n",
            "Requirement already satisfied: pdf2image in /usr/local/lib/python3.9/dist-packages (1.16.3)\n",
            "Requirement already satisfied: pillow in /usr/local/lib/python3.9/dist-packages (from pdf2image) (9.4.0)\n",
            "Looking in indexes: https://pypi.org/simple, https://us-python.pkg.dev/colab-wheels/public/simple/\n",
            "Requirement already satisfied: PyMuPDF in /usr/local/lib/python3.9/dist-packages (1.21.1)\n",
            "Looking in indexes: https://pypi.org/simple, https://us-python.pkg.dev/colab-wheels/public/simple/\n",
            "Collecting Pillow==9.0.0\n",
            "  Using cached Pillow-9.0.0-cp39-cp39-manylinux_2_17_x86_64.manylinux2014_x86_64.whl (4.3 MB)\n",
            "Installing collected packages: Pillow\n",
            "Successfully installed Pillow-9.4.0\n"
          ]
        },
        {
          "output_type": "display_data",
          "data": {
            "application/vnd.colab-display-data+json": {
              "pip_warning": {
                "packages": [
                  "PIL"
                ]
              }
            }
          },
          "metadata": {}
        }
      ]
    },
    {
      "cell_type": "code",
      "source": [
        "# get pdf files\n",
        "#PATH = os.getcwd()"
      ],
      "metadata": {
        "id": "La7Jsqq8H2I4"
      },
      "execution_count": 3,
      "outputs": []
    },
    {
      "cell_type": "code",
      "source": [
        "# from google.colab import files\n",
        "# uploaded = files.upload()\n",
        "# extractedInformation = pytesseract.image_to_string(Image.open('2.jpg'))\n",
        "# print(extractedInformation)"
      ],
      "metadata": {
        "id": "fY1IwGZfH2CE"
      },
      "execution_count": 4,
      "outputs": []
    },
    {
      "metadata": {
        "id": "aw9nJoeqBWZP"
      },
      "cell_type": "code",
      "source": [
        "import ocrmypdf\n",
        "import pandas as pd\n",
        "import fitz\n",
        "import os"
      ],
      "execution_count": 5,
      "outputs": []
    },
    {
      "cell_type": "code",
      "source": [
        "PATH = os.getcwd()\n",
        "file_list = [f for f in os.listdir(path=PATH) if f.endswith('.pdf') or f.endswith('.PDF')]"
      ],
      "metadata": {
        "id": "fCyejlQaPHo9"
      },
      "execution_count": 6,
      "outputs": []
    },
    {
      "cell_type": "code",
      "source": [
        "file_list"
      ],
      "metadata": {
        "colab": {
          "base_uri": "https://localhost:8080/"
        },
        "id": "gHPxcabbQc_8",
        "outputId": "c7330b35-de96-40cf-c99e-155a1571cde6"
      },
      "execution_count": 7,
      "outputs": [
        {
          "output_type": "execute_result",
          "data": {
            "text/plain": [
              "['BM 1184 dt. 29.12.2021 - FCPRF.pdf']"
            ]
          },
          "metadata": {},
          "execution_count": 7
        }
      ]
    },
    {
      "cell_type": "code",
      "source": [
        "%%time \n",
        "'''\n",
        "main ocr code, which create new pdf file with OCR_ ahead its origin filename, \n",
        "and error messege can be find in error_log\n",
        "'''\n",
        "\n",
        "error_log = {}\n",
        "for file in file_list:\n",
        "    try:\n",
        "        result = ocrmypdf.ocr(file, 'OCR_'+file,output_type='pdf',skip_text=True,deskew=True)\n",
        "    except Exception as e:\n",
        "        if hasattr(e,'message'):\n",
        "            error_log[file] = e.message\n",
        "        else:\n",
        "            error_log[file] = e\n",
        "        continue\n",
        "        \n",
        "'''\n",
        "extract OCRed PDF using PyMuPDF and save into a pandas dataframe\n",
        "'''\n",
        "ocr_file_list = [f for f in os.listdir(path=PATH) if f.startswith('OCR_') ]\n",
        "\n",
        "# PDF extraction\n",
        "# informations we want to extract\n",
        "extraction_pdfs = {}\n",
        "\n",
        "for file in ocr_file_list:\n",
        "    #save the results\n",
        "    pages_df = pages_df = pd.DataFrame(columns=['text'])\n",
        "    # file reader\n",
        "    doc = fitz.open(file)\n",
        "    for page_num in range(doc.page_count):\n",
        "        page = doc.load_page(page_num)\n",
        "        pages_df = pages_df.append({'text': page.get_text('text')}, ignore_index=True)\n",
        "        \n",
        "        \n",
        "    extraction_pdfs[file] = pages_df  \n",
        "        "
      ],
      "metadata": {
        "colab": {
          "base_uri": "https://localhost:8080/"
        },
        "id": "FyuWu0eIQkO9",
        "outputId": "5830935a-820d-4120-acf8-28fe9f9a7ea7"
      },
      "execution_count": 13,
      "outputs": [
        {
          "output_type": "stream",
          "name": "stderr",
          "text": [
            "Scanning contents: 100%|██████████| 41/41 [00:00<00:00, 57.91page/s]\n",
            "OCR: 100%|██████████| 41.0/41.0 [00:11<00:00,  3.65page/s]\n",
            "Recompressing JPEGs: 0image [00:00, ?image/s]\n",
            "Deflating JPEGs: 100%|██████████| 6/6 [00:00<00:00, 146.15image/s]\n",
            "JBIG2: 0item [00:00, ?item/s]\n"
          ]
        },
        {
          "output_type": "stream",
          "name": "stdout",
          "text": [
            "CPU times: user 10.8 s, sys: 426 ms, total: 11.3 s\n",
            "Wall time: 15.6 s\n"
          ]
        },
        {
          "output_type": "stream",
          "name": "stderr",
          "text": [
            "<timed exec>:33: FutureWarning: The frame.append method is deprecated and will be removed from pandas in a future version. Use pandas.concat instead.\n",
            "<timed exec>:33: FutureWarning: The frame.append method is deprecated and will be removed from pandas in a future version. Use pandas.concat instead.\n",
            "<timed exec>:33: FutureWarning: The frame.append method is deprecated and will be removed from pandas in a future version. Use pandas.concat instead.\n",
            "<timed exec>:33: FutureWarning: The frame.append method is deprecated and will be removed from pandas in a future version. Use pandas.concat instead.\n",
            "<timed exec>:33: FutureWarning: The frame.append method is deprecated and will be removed from pandas in a future version. Use pandas.concat instead.\n",
            "<timed exec>:33: FutureWarning: The frame.append method is deprecated and will be removed from pandas in a future version. Use pandas.concat instead.\n",
            "<timed exec>:33: FutureWarning: The frame.append method is deprecated and will be removed from pandas in a future version. Use pandas.concat instead.\n",
            "<timed exec>:33: FutureWarning: The frame.append method is deprecated and will be removed from pandas in a future version. Use pandas.concat instead.\n",
            "<timed exec>:33: FutureWarning: The frame.append method is deprecated and will be removed from pandas in a future version. Use pandas.concat instead.\n",
            "<timed exec>:33: FutureWarning: The frame.append method is deprecated and will be removed from pandas in a future version. Use pandas.concat instead.\n",
            "<timed exec>:33: FutureWarning: The frame.append method is deprecated and will be removed from pandas in a future version. Use pandas.concat instead.\n",
            "<timed exec>:33: FutureWarning: The frame.append method is deprecated and will be removed from pandas in a future version. Use pandas.concat instead.\n",
            "<timed exec>:33: FutureWarning: The frame.append method is deprecated and will be removed from pandas in a future version. Use pandas.concat instead.\n",
            "<timed exec>:33: FutureWarning: The frame.append method is deprecated and will be removed from pandas in a future version. Use pandas.concat instead.\n",
            "<timed exec>:33: FutureWarning: The frame.append method is deprecated and will be removed from pandas in a future version. Use pandas.concat instead.\n",
            "<timed exec>:33: FutureWarning: The frame.append method is deprecated and will be removed from pandas in a future version. Use pandas.concat instead.\n",
            "<timed exec>:33: FutureWarning: The frame.append method is deprecated and will be removed from pandas in a future version. Use pandas.concat instead.\n",
            "<timed exec>:33: FutureWarning: The frame.append method is deprecated and will be removed from pandas in a future version. Use pandas.concat instead.\n",
            "<timed exec>:33: FutureWarning: The frame.append method is deprecated and will be removed from pandas in a future version. Use pandas.concat instead.\n",
            "<timed exec>:33: FutureWarning: The frame.append method is deprecated and will be removed from pandas in a future version. Use pandas.concat instead.\n",
            "<timed exec>:33: FutureWarning: The frame.append method is deprecated and will be removed from pandas in a future version. Use pandas.concat instead.\n",
            "<timed exec>:33: FutureWarning: The frame.append method is deprecated and will be removed from pandas in a future version. Use pandas.concat instead.\n",
            "<timed exec>:33: FutureWarning: The frame.append method is deprecated and will be removed from pandas in a future version. Use pandas.concat instead.\n",
            "<timed exec>:33: FutureWarning: The frame.append method is deprecated and will be removed from pandas in a future version. Use pandas.concat instead.\n",
            "<timed exec>:33: FutureWarning: The frame.append method is deprecated and will be removed from pandas in a future version. Use pandas.concat instead.\n",
            "<timed exec>:33: FutureWarning: The frame.append method is deprecated and will be removed from pandas in a future version. Use pandas.concat instead.\n",
            "<timed exec>:33: FutureWarning: The frame.append method is deprecated and will be removed from pandas in a future version. Use pandas.concat instead.\n",
            "<timed exec>:33: FutureWarning: The frame.append method is deprecated and will be removed from pandas in a future version. Use pandas.concat instead.\n",
            "<timed exec>:33: FutureWarning: The frame.append method is deprecated and will be removed from pandas in a future version. Use pandas.concat instead.\n",
            "<timed exec>:33: FutureWarning: The frame.append method is deprecated and will be removed from pandas in a future version. Use pandas.concat instead.\n",
            "<timed exec>:33: FutureWarning: The frame.append method is deprecated and will be removed from pandas in a future version. Use pandas.concat instead.\n",
            "<timed exec>:33: FutureWarning: The frame.append method is deprecated and will be removed from pandas in a future version. Use pandas.concat instead.\n",
            "<timed exec>:33: FutureWarning: The frame.append method is deprecated and will be removed from pandas in a future version. Use pandas.concat instead.\n",
            "<timed exec>:33: FutureWarning: The frame.append method is deprecated and will be removed from pandas in a future version. Use pandas.concat instead.\n",
            "<timed exec>:33: FutureWarning: The frame.append method is deprecated and will be removed from pandas in a future version. Use pandas.concat instead.\n",
            "<timed exec>:33: FutureWarning: The frame.append method is deprecated and will be removed from pandas in a future version. Use pandas.concat instead.\n",
            "<timed exec>:33: FutureWarning: The frame.append method is deprecated and will be removed from pandas in a future version. Use pandas.concat instead.\n",
            "<timed exec>:33: FutureWarning: The frame.append method is deprecated and will be removed from pandas in a future version. Use pandas.concat instead.\n",
            "<timed exec>:33: FutureWarning: The frame.append method is deprecated and will be removed from pandas in a future version. Use pandas.concat instead.\n",
            "<timed exec>:33: FutureWarning: The frame.append method is deprecated and will be removed from pandas in a future version. Use pandas.concat instead.\n",
            "<timed exec>:33: FutureWarning: The frame.append method is deprecated and will be removed from pandas in a future version. Use pandas.concat instead.\n"
          ]
        }
      ]
    },
    {
      "cell_type": "code",
      "source": [
        "extraction_pdfs[ocr_file_list[0]]"
      ],
      "metadata": {
        "colab": {
          "base_uri": "https://localhost:8080/",
          "height": 7916
        },
        "id": "qPcdJr_UQvHc",
        "outputId": "6aa409f0-7299-48e2-b311-29ade102351e"
      },
      "execution_count": 14,
      "outputs": [
        {
          "output_type": "execute_result",
          "data": {
            "text/plain": [
              "                                                 text\n",
              "0   ' \\n“ \\nCentral Bank of Oman \\nG22) St ETS \\n2...\n",
              "1   Central Bank of Oman \\nSEBS SS LET) \\nCIRCULAR...\n",
              "2    \\n \\n \\n \\nFINANCIAL CONSUMER PROTECTION \\nRE...\n",
              "3    \\n \\n1 \\nFinancial Consumer Protection Regula...\n",
              "4    \\n \\n2 \\nFinancial Consumer Protection Regula...\n",
              "5    \\n \\n3 \\nFinancial Consumer Protection Regula...\n",
              "6    \\n \\n4 \\nFinancial Consumer Protection Regula...\n",
              "7    \\n \\n5 \\nFinancial Consumer Protection Regula...\n",
              "8    \\n \\n6 \\nFinancial Consumer Protection Regula...\n",
              "9    \\n \\n7 \\nFinancial Consumer Protection Regula...\n",
              "10   \\n \\n8 \\nFinancial Consumer Protection Regula...\n",
              "11   \\n \\n9 \\nFinancial Consumer Protection Regula...\n",
              "12   \\n \\n10 \\nFinancial Consumer Protection Regul...\n",
              "13   \\n \\n11 \\nFinancial Consumer Protection Regul...\n",
              "14   \\n \\n12 \\nFinancial Consumer Protection Regul...\n",
              "15   \\n \\n13 \\nFinancial Consumer Protection Regul...\n",
              "16   \\n \\n14 \\nFinancial Consumer Protection Regul...\n",
              "17   \\n \\n15 \\nFinancial Consumer Protection Regul...\n",
              "18   \\n \\n16 \\nFinancial Consumer Protection Regul...\n",
              "19   \\n \\n17 \\nFinancial Consumer Protection Regul...\n",
              "20   \\n \\n18 \\nFinancial Consumer Protection Regul...\n",
              "21   \\n \\n19 \\nFinancial Consumer Protection Regul...\n",
              "22   \\n \\n20 \\nFinancial Consumer Protection Regul...\n",
              "23   \\n \\n21 \\nFinancial Consumer Protection Regul...\n",
              "24   \\n \\n22 \\nFinancial Consumer Protection Regul...\n",
              "25   \\n \\n23 \\nFinancial Consumer Protection Regul...\n",
              "26   \\n \\n24 \\nFinancial Consumer Protection Regul...\n",
              "27   \\n \\n25 \\nFinancial Consumer Protection Regul...\n",
              "28   \\n \\n26 \\nFinancial Consumer Protection Regul...\n",
              "29   \\n \\n27 \\nFinancial Consumer Protection Regul...\n",
              "30   \\n \\n28 \\nFinancial Consumer Protection Regul...\n",
              "31   \\n \\n29 \\nFinancial Consumer Protection Regul...\n",
              "32   \\n \\n30 \\nFinancial Consumer Protection Regul...\n",
              "33   \\n \\n31 \\nFinancial Consumer Protection Regul...\n",
              "34   \\n \\n32 \\nFinancial Consumer Protection Regul...\n",
              "35   \\n \\n33 \\nFinancial Consumer Protection Regul...\n",
              "36   \\n \\n34 \\nFinancial Consumer Protection Regul...\n",
              "37   \\n \\n35 \\nFinancial Consumer Protection Regul...\n",
              "38   \\n \\n36 \\nFinancial Consumer Protection Regul...\n",
              "39   \\n \\n37 \\nFinancial Consumer Protection Regul...\n",
              "40   \\n \\n38 \\nFinancial Consumer Protection Regul..."
            ],
            "text/html": [
              "\n",
              "  <div id=\"df-d54c00ec-d4a2-400e-8380-94cf5dac2e3e\">\n",
              "    <div class=\"colab-df-container\">\n",
              "      <div>\n",
              "<style scoped>\n",
              "    .dataframe tbody tr th:only-of-type {\n",
              "        vertical-align: middle;\n",
              "    }\n",
              "\n",
              "    .dataframe tbody tr th {\n",
              "        vertical-align: top;\n",
              "    }\n",
              "\n",
              "    .dataframe thead th {\n",
              "        text-align: right;\n",
              "    }\n",
              "</style>\n",
              "<table border=\"1\" class=\"dataframe\">\n",
              "  <thead>\n",
              "    <tr style=\"text-align: right;\">\n",
              "      <th></th>\n",
              "      <th>text</th>\n",
              "    </tr>\n",
              "  </thead>\n",
              "  <tbody>\n",
              "    <tr>\n",
              "      <th>0</th>\n",
              "      <td>' \\n“ \\nCentral Bank of Oman \\nG22) St ETS \\n2...</td>\n",
              "    </tr>\n",
              "    <tr>\n",
              "      <th>1</th>\n",
              "      <td>Central Bank of Oman \\nSEBS SS LET) \\nCIRCULAR...</td>\n",
              "    </tr>\n",
              "    <tr>\n",
              "      <th>2</th>\n",
              "      <td>\\n \\n \\n \\nFINANCIAL CONSUMER PROTECTION \\nRE...</td>\n",
              "    </tr>\n",
              "    <tr>\n",
              "      <th>3</th>\n",
              "      <td>\\n \\n1 \\nFinancial Consumer Protection Regula...</td>\n",
              "    </tr>\n",
              "    <tr>\n",
              "      <th>4</th>\n",
              "      <td>\\n \\n2 \\nFinancial Consumer Protection Regula...</td>\n",
              "    </tr>\n",
              "    <tr>\n",
              "      <th>5</th>\n",
              "      <td>\\n \\n3 \\nFinancial Consumer Protection Regula...</td>\n",
              "    </tr>\n",
              "    <tr>\n",
              "      <th>6</th>\n",
              "      <td>\\n \\n4 \\nFinancial Consumer Protection Regula...</td>\n",
              "    </tr>\n",
              "    <tr>\n",
              "      <th>7</th>\n",
              "      <td>\\n \\n5 \\nFinancial Consumer Protection Regula...</td>\n",
              "    </tr>\n",
              "    <tr>\n",
              "      <th>8</th>\n",
              "      <td>\\n \\n6 \\nFinancial Consumer Protection Regula...</td>\n",
              "    </tr>\n",
              "    <tr>\n",
              "      <th>9</th>\n",
              "      <td>\\n \\n7 \\nFinancial Consumer Protection Regula...</td>\n",
              "    </tr>\n",
              "    <tr>\n",
              "      <th>10</th>\n",
              "      <td>\\n \\n8 \\nFinancial Consumer Protection Regula...</td>\n",
              "    </tr>\n",
              "    <tr>\n",
              "      <th>11</th>\n",
              "      <td>\\n \\n9 \\nFinancial Consumer Protection Regula...</td>\n",
              "    </tr>\n",
              "    <tr>\n",
              "      <th>12</th>\n",
              "      <td>\\n \\n10 \\nFinancial Consumer Protection Regul...</td>\n",
              "    </tr>\n",
              "    <tr>\n",
              "      <th>13</th>\n",
              "      <td>\\n \\n11 \\nFinancial Consumer Protection Regul...</td>\n",
              "    </tr>\n",
              "    <tr>\n",
              "      <th>14</th>\n",
              "      <td>\\n \\n12 \\nFinancial Consumer Protection Regul...</td>\n",
              "    </tr>\n",
              "    <tr>\n",
              "      <th>15</th>\n",
              "      <td>\\n \\n13 \\nFinancial Consumer Protection Regul...</td>\n",
              "    </tr>\n",
              "    <tr>\n",
              "      <th>16</th>\n",
              "      <td>\\n \\n14 \\nFinancial Consumer Protection Regul...</td>\n",
              "    </tr>\n",
              "    <tr>\n",
              "      <th>17</th>\n",
              "      <td>\\n \\n15 \\nFinancial Consumer Protection Regul...</td>\n",
              "    </tr>\n",
              "    <tr>\n",
              "      <th>18</th>\n",
              "      <td>\\n \\n16 \\nFinancial Consumer Protection Regul...</td>\n",
              "    </tr>\n",
              "    <tr>\n",
              "      <th>19</th>\n",
              "      <td>\\n \\n17 \\nFinancial Consumer Protection Regul...</td>\n",
              "    </tr>\n",
              "    <tr>\n",
              "      <th>20</th>\n",
              "      <td>\\n \\n18 \\nFinancial Consumer Protection Regul...</td>\n",
              "    </tr>\n",
              "    <tr>\n",
              "      <th>21</th>\n",
              "      <td>\\n \\n19 \\nFinancial Consumer Protection Regul...</td>\n",
              "    </tr>\n",
              "    <tr>\n",
              "      <th>22</th>\n",
              "      <td>\\n \\n20 \\nFinancial Consumer Protection Regul...</td>\n",
              "    </tr>\n",
              "    <tr>\n",
              "      <th>23</th>\n",
              "      <td>\\n \\n21 \\nFinancial Consumer Protection Regul...</td>\n",
              "    </tr>\n",
              "    <tr>\n",
              "      <th>24</th>\n",
              "      <td>\\n \\n22 \\nFinancial Consumer Protection Regul...</td>\n",
              "    </tr>\n",
              "    <tr>\n",
              "      <th>25</th>\n",
              "      <td>\\n \\n23 \\nFinancial Consumer Protection Regul...</td>\n",
              "    </tr>\n",
              "    <tr>\n",
              "      <th>26</th>\n",
              "      <td>\\n \\n24 \\nFinancial Consumer Protection Regul...</td>\n",
              "    </tr>\n",
              "    <tr>\n",
              "      <th>27</th>\n",
              "      <td>\\n \\n25 \\nFinancial Consumer Protection Regul...</td>\n",
              "    </tr>\n",
              "    <tr>\n",
              "      <th>28</th>\n",
              "      <td>\\n \\n26 \\nFinancial Consumer Protection Regul...</td>\n",
              "    </tr>\n",
              "    <tr>\n",
              "      <th>29</th>\n",
              "      <td>\\n \\n27 \\nFinancial Consumer Protection Regul...</td>\n",
              "    </tr>\n",
              "    <tr>\n",
              "      <th>30</th>\n",
              "      <td>\\n \\n28 \\nFinancial Consumer Protection Regul...</td>\n",
              "    </tr>\n",
              "    <tr>\n",
              "      <th>31</th>\n",
              "      <td>\\n \\n29 \\nFinancial Consumer Protection Regul...</td>\n",
              "    </tr>\n",
              "    <tr>\n",
              "      <th>32</th>\n",
              "      <td>\\n \\n30 \\nFinancial Consumer Protection Regul...</td>\n",
              "    </tr>\n",
              "    <tr>\n",
              "      <th>33</th>\n",
              "      <td>\\n \\n31 \\nFinancial Consumer Protection Regul...</td>\n",
              "    </tr>\n",
              "    <tr>\n",
              "      <th>34</th>\n",
              "      <td>\\n \\n32 \\nFinancial Consumer Protection Regul...</td>\n",
              "    </tr>\n",
              "    <tr>\n",
              "      <th>35</th>\n",
              "      <td>\\n \\n33 \\nFinancial Consumer Protection Regul...</td>\n",
              "    </tr>\n",
              "    <tr>\n",
              "      <th>36</th>\n",
              "      <td>\\n \\n34 \\nFinancial Consumer Protection Regul...</td>\n",
              "    </tr>\n",
              "    <tr>\n",
              "      <th>37</th>\n",
              "      <td>\\n \\n35 \\nFinancial Consumer Protection Regul...</td>\n",
              "    </tr>\n",
              "    <tr>\n",
              "      <th>38</th>\n",
              "      <td>\\n \\n36 \\nFinancial Consumer Protection Regul...</td>\n",
              "    </tr>\n",
              "    <tr>\n",
              "      <th>39</th>\n",
              "      <td>\\n \\n37 \\nFinancial Consumer Protection Regul...</td>\n",
              "    </tr>\n",
              "    <tr>\n",
              "      <th>40</th>\n",
              "      <td>\\n \\n38 \\nFinancial Consumer Protection Regul...</td>\n",
              "    </tr>\n",
              "  </tbody>\n",
              "</table>\n",
              "</div>\n",
              "      <button class=\"colab-df-convert\" onclick=\"convertToInteractive('df-d54c00ec-d4a2-400e-8380-94cf5dac2e3e')\"\n",
              "              title=\"Convert this dataframe to an interactive table.\"\n",
              "              style=\"display:none;\">\n",
              "        \n",
              "  <svg xmlns=\"http://www.w3.org/2000/svg\" height=\"24px\"viewBox=\"0 0 24 24\"\n",
              "       width=\"24px\">\n",
              "    <path d=\"M0 0h24v24H0V0z\" fill=\"none\"/>\n",
              "    <path d=\"M18.56 5.44l.94 2.06.94-2.06 2.06-.94-2.06-.94-.94-2.06-.94 2.06-2.06.94zm-11 1L8.5 8.5l.94-2.06 2.06-.94-2.06-.94L8.5 2.5l-.94 2.06-2.06.94zm10 10l.94 2.06.94-2.06 2.06-.94-2.06-.94-.94-2.06-.94 2.06-2.06.94z\"/><path d=\"M17.41 7.96l-1.37-1.37c-.4-.4-.92-.59-1.43-.59-.52 0-1.04.2-1.43.59L10.3 9.45l-7.72 7.72c-.78.78-.78 2.05 0 2.83L4 21.41c.39.39.9.59 1.41.59.51 0 1.02-.2 1.41-.59l7.78-7.78 2.81-2.81c.8-.78.8-2.07 0-2.86zM5.41 20L4 18.59l7.72-7.72 1.47 1.35L5.41 20z\"/>\n",
              "  </svg>\n",
              "      </button>\n",
              "      \n",
              "  <style>\n",
              "    .colab-df-container {\n",
              "      display:flex;\n",
              "      flex-wrap:wrap;\n",
              "      gap: 12px;\n",
              "    }\n",
              "\n",
              "    .colab-df-convert {\n",
              "      background-color: #E8F0FE;\n",
              "      border: none;\n",
              "      border-radius: 50%;\n",
              "      cursor: pointer;\n",
              "      display: none;\n",
              "      fill: #1967D2;\n",
              "      height: 32px;\n",
              "      padding: 0 0 0 0;\n",
              "      width: 32px;\n",
              "    }\n",
              "\n",
              "    .colab-df-convert:hover {\n",
              "      background-color: #E2EBFA;\n",
              "      box-shadow: 0px 1px 2px rgba(60, 64, 67, 0.3), 0px 1px 3px 1px rgba(60, 64, 67, 0.15);\n",
              "      fill: #174EA6;\n",
              "    }\n",
              "\n",
              "    [theme=dark] .colab-df-convert {\n",
              "      background-color: #3B4455;\n",
              "      fill: #D2E3FC;\n",
              "    }\n",
              "\n",
              "    [theme=dark] .colab-df-convert:hover {\n",
              "      background-color: #434B5C;\n",
              "      box-shadow: 0px 1px 3px 1px rgba(0, 0, 0, 0.15);\n",
              "      filter: drop-shadow(0px 1px 2px rgba(0, 0, 0, 0.3));\n",
              "      fill: #FFFFFF;\n",
              "    }\n",
              "  </style>\n",
              "\n",
              "      <script>\n",
              "        const buttonEl =\n",
              "          document.querySelector('#df-d54c00ec-d4a2-400e-8380-94cf5dac2e3e button.colab-df-convert');\n",
              "        buttonEl.style.display =\n",
              "          google.colab.kernel.accessAllowed ? 'block' : 'none';\n",
              "\n",
              "        async function convertToInteractive(key) {\n",
              "          const element = document.querySelector('#df-d54c00ec-d4a2-400e-8380-94cf5dac2e3e');\n",
              "          const dataTable =\n",
              "            await google.colab.kernel.invokeFunction('convertToInteractive',\n",
              "                                                     [key], {});\n",
              "          if (!dataTable) return;\n",
              "\n",
              "          const docLinkHtml = 'Like what you see? Visit the ' +\n",
              "            '<a target=\"_blank\" href=https://colab.research.google.com/notebooks/data_table.ipynb>data table notebook</a>'\n",
              "            + ' to learn more about interactive tables.';\n",
              "          element.innerHTML = '';\n",
              "          dataTable['output_type'] = 'display_data';\n",
              "          await google.colab.output.renderOutput(dataTable, element);\n",
              "          const docLink = document.createElement('div');\n",
              "          docLink.innerHTML = docLinkHtml;\n",
              "          element.appendChild(docLink);\n",
              "        }\n",
              "      </script>\n",
              "    </div>\n",
              "  </div>\n",
              "  "
            ]
          },
          "metadata": {},
          "execution_count": 14
        }
      ]
    },
    {
      "cell_type": "code",
      "source": [],
      "metadata": {
        "id": "1JdlHS7lTNgL"
      },
      "execution_count": null,
      "outputs": []
    }
  ]
}